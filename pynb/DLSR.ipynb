{
  "cells": [
    {
      "cell_type": "code",
      "execution_count": null,
      "metadata": {
        "colab": {
          "base_uri": "https://localhost:8080/"
        },
        "id": "h_tqX3FWy2K3",
        "outputId": "77a150b3-aa18-4d81-9125-e21dc2303e32"
      },
      "outputs": [
        {
          "name": "stdout",
          "output_type": "stream",
          "text": [
            "Mounted at /content/drive\n"
          ]
        }
      ],
      "source": [
        "from google.colab import drive\n",
        "drive.mount('/content/drive')"
      ]
    },
    {
      "cell_type": "code",
      "execution_count": null,
      "metadata": {
        "colab": {
          "base_uri": "https://localhost:8080/"
        },
        "id": "4__C_b9aafBh",
        "outputId": "fee11e54-2cef-4869-9c52-d64d5ddc22ca"
      },
      "outputs": [
        {
          "name": "stdout",
          "output_type": "stream",
          "text": [
            "Looking in indexes: https://pypi.org/simple, https://us-python.pkg.dev/colab-wheels/public/simple/\n",
            "Collecting dominate\n",
            "  Downloading dominate-2.7.0-py2.py3-none-any.whl (29 kB)\n",
            "Installing collected packages: dominate\n",
            "Successfully installed dominate-2.7.0\n"
          ]
        }
      ],
      "source": [
        "!pip install dominate"
      ]
    },
    {
      "cell_type": "code",
      "execution_count": null,
      "metadata": {
        "colab": {
          "base_uri": "https://localhost:8080/"
        },
        "id": "9LRW_h7MbqrE",
        "outputId": "bc7d2e9c-9927-4239-b6af-eb20ba4886cd"
      },
      "outputs": [
        {
          "name": "stdout",
          "output_type": "stream",
          "text": [
            "Looking in indexes: https://pypi.org/simple, https://us-python.pkg.dev/colab-wheels/public/simple/\n",
            "Collecting visdom\n",
            "  Downloading visdom-0.2.4.tar.gz (1.4 MB)\n",
            "\u001b[2K     \u001b[90m━━━━━━━━━━━━━━━━━━━━━━━━━━━━━━━━━━━━━━━━\u001b[0m \u001b[32m1.4/1.4 MB\u001b[0m \u001b[31m16.1 MB/s\u001b[0m eta \u001b[36m0:00:00\u001b[0m\n",
            "\u001b[?25h  Preparing metadata (setup.py) ... \u001b[?25l\u001b[?25hdone\n",
            "Requirement already satisfied: numpy>=1.8 in /usr/local/lib/python3.9/dist-packages (from visdom) (1.22.4)\n",
            "Requirement already satisfied: scipy in /usr/local/lib/python3.9/dist-packages (from visdom) (1.10.1)\n",
            "Requirement already satisfied: requests in /usr/local/lib/python3.9/dist-packages (from visdom) (2.25.1)\n",
            "Requirement already satisfied: tornado in /usr/local/lib/python3.9/dist-packages (from visdom) (6.2)\n",
            "Requirement already satisfied: six in /usr/local/lib/python3.9/dist-packages (from visdom) (1.15.0)\n",
            "Collecting jsonpatch\n",
            "  Downloading jsonpatch-1.32-py2.py3-none-any.whl (12 kB)\n",
            "Collecting websocket-client\n",
            "  Downloading websocket_client-1.5.1-py3-none-any.whl (55 kB)\n",
            "\u001b[2K     \u001b[90m━━━━━━━━━━━━━━━━━━━━━━━━━━━━━━━━━━━━━━━━\u001b[0m \u001b[32m55.9/55.9 KB\u001b[0m \u001b[31m4.2 MB/s\u001b[0m eta \u001b[36m0:00:00\u001b[0m\n",
            "\u001b[?25hRequirement already satisfied: networkx in /usr/local/lib/python3.9/dist-packages (from visdom) (3.0)\n",
            "Requirement already satisfied: pillow in /usr/local/lib/python3.9/dist-packages (from visdom) (8.4.0)\n",
            "Collecting jsonpointer>=1.9\n",
            "  Downloading jsonpointer-2.3-py2.py3-none-any.whl (7.8 kB)\n",
            "Requirement already satisfied: urllib3<1.27,>=1.21.1 in /usr/local/lib/python3.9/dist-packages (from requests->visdom) (1.26.14)\n",
            "Requirement already satisfied: idna<3,>=2.5 in /usr/local/lib/python3.9/dist-packages (from requests->visdom) (2.10)\n",
            "Requirement already satisfied: certifi>=2017.4.17 in /usr/local/lib/python3.9/dist-packages (from requests->visdom) (2022.12.7)\n",
            "Requirement already satisfied: chardet<5,>=3.0.2 in /usr/local/lib/python3.9/dist-packages (from requests->visdom) (4.0.0)\n",
            "Building wheels for collected packages: visdom\n",
            "  Building wheel for visdom (setup.py) ... \u001b[?25l\u001b[?25hdone\n",
            "  Created wheel for visdom: filename=visdom-0.2.4-py3-none-any.whl size=1408217 sha256=a08ed92657109eccef81f98a8c73fc53f819dbaf6ba2da9d6f22f30a5566eeba\n",
            "  Stored in directory: /root/.cache/pip/wheels/58/9e/14/30f7cc4dafdd4d602fb00ca33c6edd1424fc0f5df10a02e060\n",
            "Successfully built visdom\n",
            "Installing collected packages: websocket-client, jsonpointer, jsonpatch, visdom\n",
            "Successfully installed jsonpatch-1.32 jsonpointer-2.3 visdom-0.2.4 websocket-client-1.5.1\n"
          ]
        }
      ],
      "source": [
        "!pip install visdom"
      ]
    },
    {
      "cell_type": "code",
      "execution_count": null,
      "metadata": {
        "colab": {
          "base_uri": "https://localhost:8080/"
        },
        "id": "4lQ6rPNBBpZH",
        "outputId": "e3cb4201-531e-4bdb-98c4-d50e7bb7b5fe"
      },
      "outputs": [
        {
          "name": "stdout",
          "output_type": "stream",
          "text": [
            "Cloning into 'DeepLSR'...\n",
            "remote: Enumerating objects: 186, done.\u001b[K\n",
            "remote: Total 186 (delta 0), reused 0 (delta 0), pack-reused 186\u001b[K\n",
            "Receiving objects: 100% (186/186), 5.37 MiB | 5.14 MiB/s, done.\n",
            "Resolving deltas: 100% (79/79), done.\n"
          ]
        }
      ],
      "source": [
        "!git clone https://github.com/faisalml/DeepLSR"
      ]
    },
    {
      "cell_type": "code",
      "execution_count": null,
      "metadata": {
        "colab": {
          "base_uri": "https://localhost:8080/"
        },
        "id": "eQ2LbxteDIsl",
        "outputId": "8b2d9d34-bf26-45a5-83e9-45f255ced5c6"
      },
      "outputs": [
        {
          "name": "stdout",
          "output_type": "stream",
          "text": [
            "/content/DeepLSR\n"
          ]
        }
      ],
      "source": [
        "%cd DeepLSR"
      ]
    },
    {
      "cell_type": "code",
      "execution_count": null,
      "metadata": {
        "id": "HJQEAJ9TZsMf"
      },
      "outputs": [],
      "source": [
        "!find . -name \"*.pyc\" -delete"
      ]
    },
    {
      "cell_type": "code",
      "execution_count": null,
      "metadata": {
        "colab": {
          "base_uri": "https://localhost:8080/"
        },
        "id": "PM2HHlTuFwUa",
        "outputId": "4edc0eb3-0c23-4881-a615-51d4b455e42f"
      },
      "outputs": [
        {
          "name": "stdout",
          "output_type": "stream",
          "text": [
            "Archive:  /content/personal_data.zip\n",
            "replace personal_data/base/09-41-06_1.jpg? [y]es, [n]o, [A]ll, [N]one, [r]ename: A\n",
            "  inflating: personal_data/base/09-41-06_1.jpg  \n",
            "  inflating: personal_data/base/09-41-06_2.jpg  \n",
            "  inflating: personal_data/base/09-42-05_1.jpg  \n",
            "  inflating: personal_data/base/09-42-05_2.jpg  \n",
            "  inflating: personal_data/base/09-43-07_1.jpg  \n",
            "  inflating: personal_data/base/09-43-07_2.jpg  \n",
            "  inflating: personal_data/base/09-44-06_1.jpg  \n",
            "  inflating: personal_data/base/09-44-06_2.jpg  \n",
            "  inflating: personal_data/base/09-45-04_1.jpg  \n",
            "  inflating: personal_data/base/09-45-04_2.jpg  \n",
            "  inflating: personal_data/base/09-46-10_1.jpg  \n",
            "  inflating: personal_data/base/09-46-10_2.jpg  \n",
            "  inflating: personal_data/base/09-49-17_1.jpg  \n",
            "  inflating: personal_data/base/09-49-17_2.jpg  \n",
            "  inflating: personal_data/base/09-49-37_1.jpg  \n",
            "  inflating: personal_data/base/09-49-37_2.jpg  \n",
            "  inflating: personal_data/base/09-50-11_1.jpg  \n",
            "  inflating: personal_data/base/09-50-11_2.jpg  \n",
            "  inflating: personal_data/base/09-52-38_1.jpg  \n",
            "  inflating: personal_data/base/09-52-38_2.jpg  \n",
            "  inflating: personal_data/base/09-53-51_2.jpg  \n",
            "  inflating: personal_data/base/09-53-51.jpg  \n",
            "  inflating: personal_data/base/09-54-44_2.jpg  \n",
            "  inflating: personal_data/base/09-54-44.jpg  \n",
            "  inflating: personal_data/base/09-55-22_2.jpg  \n",
            "  inflating: personal_data/base/09-55-22.jpg  \n",
            "  inflating: personal_data/base/09-55-50_2.jpg  \n",
            "  inflating: personal_data/base/09-55-50.jpg  \n",
            "  inflating: personal_data/base/09-56-30_2.jpg  \n",
            "  inflating: personal_data/base/09-56-30.jpg  \n",
            "  inflating: personal_data/base/09-57-36_2.jpg  \n",
            "  inflating: personal_data/base/09-57-36.jpg  \n",
            "  inflating: personal_data/base/09-58-19.jpg  \n",
            "  inflating: personal_data/base/10-51-38.jpg  \n",
            "  inflating: personal_data/base/10-52-09.jpg  \n",
            "  inflating: personal_data/base/10-55-10.jpg  \n",
            "  inflating: personal_data/base/10-58-55.jpg  \n",
            "  inflating: personal_data/base/11-02-15.jpg  \n",
            "  inflating: personal_data/base/11-03-10.jpg  \n",
            "  inflating: personal_data/base/11-03-53.jpg  \n",
            "  inflating: personal_data/base/11-05-17.jpg  \n",
            "  inflating: personal_data/base/11-05-42.jpg  \n",
            "  inflating: personal_data/base/11-06-10.jpg  \n",
            "  inflating: personal_data/base/11-09-26.jpg  \n",
            "  inflating: personal_data/base/11-11-23.jpg  \n",
            "  inflating: personal_data/base/11-12-47.jpg  \n",
            "  inflating: personal_data/base/11-13-13.jpg  \n",
            "  inflating: personal_data/base/12-06-36.jpg  \n",
            "  inflating: personal_data/base/17-35-44.jpg  \n",
            "  inflating: personal_data/base/17-35-50.jpg  \n",
            "  inflating: personal_data/base/17-35-56.jpg  \n",
            "  inflating: personal_data/base/17-36-01.jpg  \n",
            "  inflating: personal_data/base/17-36-35.jpg  \n",
            "  inflating: personal_data/base/17-36-47.jpg  \n",
            "  inflating: personal_data/base/17-37-04.jpg  \n",
            "  inflating: personal_data/base/17-37-19.jpg  \n",
            "  inflating: personal_data/base/17-37-40.jpg  \n",
            "  inflating: personal_data/base/17-38-18.jpg  \n",
            "  inflating: personal_data/base/17-38-30.jpg  \n",
            "  inflating: personal_data/base/17-40-25.jpg  \n",
            "  inflating: personal_data/base/17-47-32.jpg  \n",
            "  inflating: personal_data/base/17-47-38.jpg  \n",
            "  inflating: personal_data/base/17-47-41.jpg  \n",
            "  inflating: personal_data/base/17-47-48.jpg  \n",
            "  inflating: personal_data/base/17-48-12.jpg  \n",
            "  inflating: personal_data/base/17-48-16.jpg  \n",
            "  inflating: personal_data/base/17-48-21.jpg  \n",
            "  inflating: personal_data/base/17-48-34.jpg  \n",
            "  inflating: personal_data/base/17-48-45.jpg  \n",
            "  inflating: personal_data/base/17-48-47.jpg  \n",
            "  inflating: personal_data/base/17-48-50.jpg  \n",
            "  inflating: personal_data/base/17-49-02.jpg  \n",
            "  inflating: personal_data/base/17-57-01.jpg  \n",
            "  inflating: personal_data/base/17-57-11.jpg  \n",
            "  inflating: personal_data/base/17-57-24.jpg  \n",
            "  inflating: personal_data/base/17-57-47.jpg  \n",
            "  inflating: personal_data/base/18-15-18.jpg  \n",
            "  inflating: personal_data/base/18-15-27.jpg  \n",
            "  inflating: personal_data/base/18-18-25.jpg  \n",
            "  inflating: personal_data/base/18-18-29.jpg  \n",
            "  inflating: personal_data/base/18-18-34.jpg  \n",
            "  inflating: personal_data/base/18-19-42.jpg  \n",
            "  inflating: personal_data/base/18-19-50.jpg  \n",
            "  inflating: personal_data/base/18-19-54.jpg  \n",
            "  inflating: personal_data/speckle/11-05-42.jpg  \n",
            "  inflating: personal_data/speckle/17-40-25.jpg  \n",
            "  inflating: personal_data/speckle/09-46-10_1.jpg  \n",
            "  inflating: personal_data/speckle/17-48-16.jpg  \n",
            "  inflating: personal_data/speckle/09-55-22.jpg  \n",
            "  inflating: personal_data/speckle/09-44-06_1.jpg  \n",
            "  inflating: personal_data/speckle/09-53-51_2.jpg  \n",
            "  inflating: personal_data/speckle/09-55-50_2.jpg  \n",
            "  inflating: personal_data/speckle/17-48-12.jpg  \n",
            "  inflating: personal_data/speckle/17-48-50.jpg  \n",
            "  inflating: personal_data/speckle/11-02-15.jpg  \n",
            "  inflating: personal_data/speckle/09-54-44_2.jpg  \n",
            "  inflating: personal_data/speckle/09-42-05_2.jpg  \n",
            "  inflating: personal_data/speckle/09-56-30_2.jpg  \n",
            "  inflating: personal_data/speckle/17-37-40.jpg  \n",
            "  inflating: personal_data/speckle/09-43-07_2.jpg  \n",
            "  inflating: personal_data/speckle/17-36-01.jpg  \n",
            "  inflating: personal_data/speckle/09-57-36.jpg  \n",
            "  inflating: personal_data/speckle/11-06-10.jpg  \n",
            "  inflating: personal_data/speckle/17-36-47.jpg  \n",
            "  inflating: personal_data/speckle/17-35-50.jpg  \n",
            "  inflating: personal_data/speckle/18-18-25.jpg  \n",
            "  inflating: personal_data/speckle/17-35-56.jpg  \n",
            "  inflating: personal_data/speckle/18-15-27.jpg  \n",
            "  inflating: personal_data/speckle/17-37-04.jpg  \n",
            "  inflating: personal_data/speckle/09-43-07_1.jpg  \n",
            "  inflating: personal_data/speckle/17-38-30.jpg  \n",
            "  inflating: personal_data/speckle/18-18-34.jpg  \n",
            "  inflating: personal_data/speckle/11-09-26.jpg  \n",
            "  inflating: personal_data/speckle/18-18-29.jpg  \n",
            "  inflating: personal_data/speckle/18-15-18.jpg  \n",
            "  inflating: personal_data/speckle/17-47-38.jpg  \n",
            "  inflating: personal_data/speckle/09-49-37_1.jpg  \n",
            "  inflating: personal_data/speckle/11-03-53.jpg  \n",
            "  inflating: personal_data/speckle/17-38-18.jpg  \n",
            "  inflating: personal_data/speckle/09-41-06_2.jpg  \n",
            "  inflating: personal_data/speckle/17-48-34.jpg  \n",
            "  inflating: personal_data/speckle/11-13-13.jpg  \n",
            "  inflating: personal_data/speckle/09-55-22_2.jpg  \n",
            "  inflating: personal_data/speckle/09-52-38_2.jpg  \n",
            "  inflating: personal_data/speckle/17-47-48.jpg  \n",
            "  inflating: personal_data/speckle/10-58-55.jpg  \n",
            "  inflating: personal_data/speckle/09-56-30.jpg  \n",
            "  inflating: personal_data/speckle/10-55-10.jpg  \n",
            "  inflating: personal_data/speckle/09-50-11_1.jpg  \n",
            "  inflating: personal_data/speckle/09-45-04_2.jpg  \n",
            "  inflating: personal_data/speckle/09-49-37_2.jpg  \n",
            "  inflating: personal_data/speckle/12-06-36.jpg  \n",
            "  inflating: personal_data/speckle/11-05-17.jpg  \n",
            "  inflating: personal_data/speckle/09-57-36_2.jpg  \n",
            "  inflating: personal_data/speckle/09-44-06_2.jpg  \n",
            "  inflating: personal_data/speckle/17-35-44.jpg  \n",
            "  inflating: personal_data/speckle/09-46-10_2.jpg  \n",
            "  inflating: personal_data/speckle/09-58-19.jpg  \n",
            "  inflating: personal_data/speckle/17-57-47.jpg  \n",
            "  inflating: personal_data/speckle/11-03-10.jpg  \n",
            "  inflating: personal_data/speckle/17-57-11.jpg  \n",
            "  inflating: personal_data/speckle/09-41-06_1.jpg  \n",
            "  inflating: personal_data/speckle/09-49-17_2.jpg  \n",
            "  inflating: personal_data/speckle/10-51-38.jpg  \n",
            "  inflating: personal_data/speckle/17-48-45.jpg  \n",
            "  inflating: personal_data/speckle/11-11-23.jpg  \n",
            "  inflating: personal_data/speckle/09-45-04_1.jpg  \n",
            "  inflating: personal_data/speckle/09-54-44.jpg  \n",
            "  inflating: personal_data/speckle/18-19-54.jpg  \n",
            "  inflating: personal_data/speckle/18-19-42.jpg  \n",
            "  inflating: personal_data/speckle/11-12-47.jpg  \n",
            "  inflating: personal_data/speckle/17-57-24.jpg  \n",
            "  inflating: personal_data/speckle/17-36-35.jpg  \n",
            "  inflating: personal_data/speckle/17-47-41.jpg  \n",
            "  inflating: personal_data/speckle/17-48-21.jpg  \n",
            "  inflating: personal_data/speckle/09-52-38_1.jpg  \n",
            "  inflating: personal_data/speckle/09-55-50.jpg  \n",
            "  inflating: personal_data/speckle/17-48-47.jpg  \n",
            "  inflating: personal_data/speckle/10-52-09.jpg  \n",
            "  inflating: personal_data/speckle/17-47-32.jpg  \n",
            "  inflating: personal_data/speckle/09-53-51.jpg  \n",
            "  inflating: personal_data/speckle/17-49-02.jpg  \n",
            "  inflating: personal_data/speckle/17-57-01.jpg  \n",
            "  inflating: personal_data/speckle/09-42-05_1.jpg  \n",
            "  inflating: personal_data/speckle/18-19-50.jpg  \n",
            "  inflating: personal_data/speckle/17-37-19.jpg  \n",
            "  inflating: personal_data/speckle/09-49-17_1.jpg  \n",
            "  inflating: personal_data/speckle/09-50-11_2.jpg  \n"
          ]
        }
      ],
      "source": [
        "!cp /content/drive/MyDrive/projet_imagerie/data/personal_data.zip /content/personal_data.zip\n",
        "!unzip /content/personal_data.zip "
      ]
    },
    {
      "cell_type": "code",
      "execution_count": null,
      "metadata": {
        "colab": {
          "base_uri": "https://localhost:8080/"
        },
        "id": "BCcDU5osX-xx",
        "outputId": "903a07d3-1c50-477b-8525-498b99667d0e"
      },
      "outputs": [
        {
          "name": "stdout",
          "output_type": "stream",
          "text": [
            "Archive:  /content/DeepLSR_Model_Release.zip\n",
            "warning:  stripped absolute path spec from /\n",
            "mapname:  conversion of  failed\n",
            "replace LSR2LED/latest_net_G.pth? [y]es, [n]o, [A]ll, [N]one, [r]ename: N\n"
          ]
        }
      ],
      "source": [
        "!cp /content/drive/MyDrive/projet_imagerie/DLSR/DeepLSR_Model_Release.zip /content/DeepLSR_Model_Release.zip\n",
        "!unzip /content/DeepLSR_Model_Release.zip"
      ]
    },
    {
      "cell_type": "code",
      "execution_count": null,
      "metadata": {
        "id": "btF3A54u2y77"
      },
      "outputs": [],
      "source": [
        "!cp  /content/DeepLSR/LSR2LED/* /content/DeepLSR/checkpoints/DeepLSR/ "
      ]
    },
    {
      "cell_type": "code",
      "execution_count": null,
      "metadata": {
        "colab": {
          "base_uri": "https://localhost:8080/"
        },
        "id": "1gwRTDfgB-RE",
        "outputId": "5fa17c1f-ee14-4dc0-f4bb-ca49a4c52468"
      },
      "outputs": [
        {
          "name": "stdout",
          "output_type": "stream",
          "text": [
            "----------------- Options ---------------\n",
            "             aspect_ratio: 1.0                           \n",
            "                batchSize: 1                             \n",
            "          checkpoints_dir: ./checkpoints                 \n",
            "                 dataroot: /content/DeepLSR/personal_data/speckle\t[default: None]\n",
            "             dataset_mode: single                        \n",
            "               display_id: 0                             \t[default: 1]\n",
            "             display_port: 8097                          \n",
            "           display_server: http://localhost              \n",
            "          display_winsize: 256                           \n",
            "                 fineSize: 256                           \n",
            "                  gpu_ids: 0                             \n",
            "                 how_many: 50                            \n",
            "                init_gain: 0.02                          \n",
            "                init_type: normal                        \n",
            "                 input_nc: 3                             \n",
            "                  isTrain: False                         \t[default: None]\n",
            "                 loadSize: 256                           \n",
            "         max_dataset_size: inf                           \n",
            "                    model: test                          \n",
            "             model_suffix:                               \n",
            "                 nThreads: 4                             \n",
            "               n_layers_D: 3                             \n",
            "                     name: DeepLSR                       \t[default: experiment_name]\n",
            "                      ndf: 64                            \n",
            "                      ngf: 64                            \n",
            "               no_dropout: True                          \n",
            "                  no_flip: False                         \n",
            "                     norm: instance                      \n",
            "                    ntest: inf                           \n",
            "                output_nc: 3                             \n",
            "                    phase: test                          \n",
            "           resize_or_crop: resize_and_crop               \n",
            "              results_dir: ./results/                    \n",
            "           serial_batches: False                         \n",
            "                   suffix:                               \n",
            "                  verbose: False                         \n",
            "          which_direction: AtoB                          \n",
            "              which_epoch: latest                        \n",
            "         which_model_netD: basic                         \n",
            "         which_model_netG: unet_256                      \n",
            "----------------- End -------------------\n",
            "/usr/local/lib/python3.9/dist-packages/torchvision/transforms/transforms.py:329: UserWarning: Argument 'interpolation' of type int is deprecated since 0.13 and will be removed in 0.15. Please use InterpolationMode enum.\n",
            "  warnings.warn(\n",
            "dataset [SingleImageDataset] was created\n",
            "initialize network with normal\n",
            "model [TestModel] was created\n",
            "loading the model from ./checkpoints/DeepLSR/latest_net_G.pth\n",
            "---------- Networks initialized -------------\n",
            "[Network G] Total number of parameters : 54.414 M\n",
            "-----------------------------------------------\n",
            "processing (0000)-th image... ['/content/DeepLSR/personal_data/speckle/09-41-06_1.jpg']\n",
            "processing (0005)-th image... ['/content/DeepLSR/personal_data/speckle/09-43-07_2.jpg']\n",
            "processing (0010)-th image... ['/content/DeepLSR/personal_data/speckle/09-46-10_1.jpg']\n",
            "processing (0015)-th image... ['/content/DeepLSR/personal_data/speckle/09-49-37_2.jpg']\n",
            "processing (0020)-th image... ['/content/DeepLSR/personal_data/speckle/09-53-51.jpg']\n",
            "processing (0025)-th image... ['/content/DeepLSR/personal_data/speckle/09-55-22_2.jpg']\n",
            "processing (0030)-th image... ['/content/DeepLSR/personal_data/speckle/09-57-36.jpg']\n",
            "processing (0035)-th image... ['/content/DeepLSR/personal_data/speckle/10-55-10.jpg']\n",
            "processing (0040)-th image... ['/content/DeepLSR/personal_data/speckle/11-05-17.jpg']\n",
            "processing (0045)-th image... ['/content/DeepLSR/personal_data/speckle/11-12-47.jpg']\n"
          ]
        }
      ],
      "source": [
        "!python test.py --dataroot /content/DeepLSR/personal_data/speckle --name DeepLSR --gpu_ids 0 --display_id 0"
      ]
    },
    {
      "cell_type": "code",
      "execution_count": null,
      "metadata": {
        "id": "Zm10qpNw3eWM"
      },
      "outputs": [],
      "source": [
        "!cp /content/DeepLSR/results/DeepLSR/test_latest/images/* /content/drive/MyDrive/projet_imagerie/DLSR/Images/breast_cancer "
      ]
    },
    {
      "attachments": {},
      "cell_type": "markdown",
      "metadata": {},
      "source": [
        "**REPLACER LE FICHIER visualizer.py par le contenu-ci dessous**"
      ]
    },
    {
      "cell_type": "markdown",
      "metadata": {
        "id": "-KK6kQXz0T6W"
      },
      "source": [
        "```py\n",
        "import numpy as np\n",
        "import os\n",
        "import ntpath\n",
        "import time\n",
        "from . import util\n",
        "from . import html\n",
        "from skimage.transform import resize\n",
        "\n",
        "\n",
        "# save image to the disk\n",
        "def save_images(webpage, visuals, image_path, aspect_ratio=1.0, width=256):\n",
        "    image_dir = webpage.get_image_dir()\n",
        "    short_path = ntpath.basename(image_path[0])\n",
        "    name = os.path.splitext(short_path)[0]\n",
        "\n",
        "    webpage.add_header(name)\n",
        "    ims, txts, links = [], [], []\n",
        "\n",
        "    for label, im_data in visuals.items():\n",
        "        im = util.tensor2im(im_data)\n",
        "        image_name = '%s_%s.png' % (name, label)\n",
        "        save_path = os.path.join(image_dir, image_name)\n",
        "        h, w, _ = im.shape\n",
        "        if aspect_ratio > 1.0:\n",
        "            im = resize(im, (h, int(w * aspect_ratio)), interp='bicubic')\n",
        "        if aspect_ratio < 1.0:\n",
        "            im = resize(im, (int(h / aspect_ratio), w), interp='bicubic')\n",
        "        util.save_image(im, save_path)\n",
        "\n",
        "        ims.append(image_name)\n",
        "        txts.append(label)\n",
        "        links.append(image_name)\n",
        "    webpage.add_images(ims, txts, links, width=width)\n",
        "\n",
        "\n",
        "class Visualizer():\n",
        "    def __init__(self, opt):\n",
        "        self.display_id = opt.display_id\n",
        "        self.use_html = opt.isTrain and not opt.no_html\n",
        "        self.win_size = opt.display_winsize\n",
        "        self.name = opt.name\n",
        "        self.opt = opt\n",
        "        self.saved = False\n",
        "        if self.display_id > 0:\n",
        "            import visdom\n",
        "            self.ncols = opt.display_ncols\n",
        "            self.vis = visdom.Visdom(server=opt.display_server, port=opt.display_port, env=opt.display_env, raise_exceptions=True)\n",
        "\n",
        "        if self.use_html:\n",
        "            self.web_dir = os.path.join(opt.checkpoints_dir, opt.name, 'web')\n",
        "            self.img_dir = os.path.join(self.web_dir, 'images')\n",
        "            print('create web directory %s...' % self.web_dir)\n",
        "            util.mkdirs([self.web_dir, self.img_dir])\n",
        "        self.log_name = os.path.join(opt.checkpoints_dir, opt.name, 'loss_log.txt')\n",
        "        with open(self.log_name, \"a\") as log_file:\n",
        "            now = time.strftime(\"%c\")\n",
        "            log_file.write('================ Training Loss (%s) ================\\n' % now)\n",
        "\n",
        "    def reset(self):\n",
        "        self.saved = False\n",
        "\n",
        "    def throw_visdom_connection_error(self):\n",
        "        print('\\n\\nCould not connect to Visdom server (https://github.com/facebookresearch/visdom) for displaying training progress.\\nYou can suppress connection to Visdom using the option --display_id -1. To install visdom, run \\n$ pip install visdom\\n, and start the server by \\n$ python -m visdom.server.\\n\\n')\n",
        "        exit(1)\n",
        "\n",
        "    # |visuals|: dictionary of images to display or save\n",
        "    def display_current_results(self, visuals, epoch, save_result):\n",
        "        if self.display_id > 0:  # show images in the browser\n",
        "            ncols = self.ncols\n",
        "            if ncols > 0:\n",
        "                ncols = min(ncols, len(visuals))\n",
        "                h, w = next(iter(visuals.values())).shape[:2]\n",
        "                table_css = \"\"\"<style>\n",
        "                        table {border-collapse: separate; border-spacing:4px; white-space:nowrap; text-align:center}\n",
        "                        table td {width: %dpx; height: %dpx; padding: 4px; outline: 4px solid black}\n",
        "                        </style>\"\"\" % (w, h)\n",
        "                title = self.name\n",
        "                label_html = ''\n",
        "                label_html_row = ''\n",
        "                images = []\n",
        "                idx = 0\n",
        "                for label, image in visuals.items():\n",
        "                    image_numpy = util.tensor2im(image)\n",
        "                    label_html_row += '<td>%s</td>' % label\n",
        "                    images.append(image_numpy.transpose([2, 0, 1]))\n",
        "                    idx += 1\n",
        "                    if idx % ncols == 0:\n",
        "                        label_html += '<tr>%s</tr>' % label_html_row\n",
        "                        label_html_row = ''\n",
        "                white_image = np.ones_like(image_numpy.transpose([2, 0, 1])) * 255\n",
        "                while idx % ncols != 0:\n",
        "                    images.append(white_image)\n",
        "                    label_html_row += '<td></td>'\n",
        "                    idx += 1\n",
        "                if label_html_row != '':\n",
        "                    label_html += '<tr>%s</tr>' % label_html_row\n",
        "                # pane col = image row\n",
        "                try:\n",
        "                    self.vis.images(images, nrow=ncols, win=self.display_id + 1,\n",
        "                                    padding=2, opts=dict(title=title + ' images'))\n",
        "                    label_html = '<table>%s</table>' % label_html\n",
        "                    self.vis.text(table_css + label_html, win=self.display_id + 2,\n",
        "                                  opts=dict(title=title + ' labels'))\n",
        "                except ConnectionError:\n",
        "                    self.throw_visdom_connection_error()\n",
        "\n",
        "            else:\n",
        "                idx = 1\n",
        "                for label, image in visuals.items():\n",
        "                    image_numpy = util.tensor2im(image)\n",
        "                    self.vis.image(image_numpy.transpose([2, 0, 1]), opts=dict(title=label),\n",
        "                                   win=self.display_id + idx)\n",
        "                    idx += 1\n",
        "\n",
        "        if self.use_html and (save_result or not self.saved):  # save images to a html file\n",
        "            self.saved = True\n",
        "            for label, image in visuals.items():\n",
        "                image_numpy = util.tensor2im(image)\n",
        "                img_path = os.path.join(self.img_dir, 'epoch%.3d_%s.png' % (epoch, label))\n",
        "                util.save_image(image_numpy, img_path)\n",
        "            # update website\n",
        "            webpage = html.HTML(self.web_dir, 'Experiment name = %s' % self.name, reflesh=1)\n",
        "            for n in range(epoch, 0, -1):\n",
        "                webpage.add_header('epoch [%d]' % n)\n",
        "                ims, txts, links = [], [], []\n",
        "\n",
        "                for label, image_numpy in visuals.items():\n",
        "                    image_numpy = util.tensor2im(image)\n",
        "                    img_path = 'epoch%.3d_%s.png' % (n, label)\n",
        "                    ims.append(img_path)\n",
        "                    txts.append(label)\n",
        "                    links.append(img_path)\n",
        "                webpage.add_images(ims, txts, links, width=self.win_size)\n",
        "            webpage.save()\n",
        "\n",
        "    # losses: dictionary of error labels and values\n",
        "    def plot_current_losses(self, epoch, counter_ratio, opt, losses):\n",
        "        if not hasattr(self, 'plot_data'):\n",
        "            self.plot_data = {'X': [], 'Y': [], 'legend': list(losses.keys())}\n",
        "        self.plot_data['X'].append(epoch + counter_ratio)\n",
        "        self.plot_data['Y'].append([losses[k] for k in self.plot_data['legend']])\n",
        "        try:\n",
        "            self.vis.line(\n",
        "                X=np.stack([np.array(self.plot_data['X'])] * len(self.plot_data['legend']), 1),\n",
        "                Y=np.array(self.plot_data['Y']),\n",
        "                opts={\n",
        "                    'title': self.name + ' loss over time',\n",
        "                    'legend': self.plot_data['legend'],\n",
        "                    'xlabel': 'epoch',\n",
        "                    'ylabel': 'loss'},\n",
        "                win=self.display_id)\n",
        "        except ConnectionError:\n",
        "            self.throw_visdom_connection_error()\n",
        "\n",
        "    # losses: same format as |losses| of plot_current_losses\n",
        "    def print_current_losses(self, epoch, i, losses, t, t_data):\n",
        "        message = '(epoch: %d, iters: %d, time: %.3f, data: %.3f) ' % (epoch, i, t, t_data)\n",
        "        for k, v in losses.items():\n",
        "            message += '%s: %.3f ' % (k, v)\n",
        "\n",
        "        print(message)\n",
        "        with open(self.log_name, \"a\") as log_file:\n",
        "            log_file.write('%s\\n' % message)\n",
        "```"
      ]
    }
  ],
  "metadata": {
    "accelerator": "GPU",
    "colab": {
      "provenance": []
    },
    "gpuClass": "standard",
    "kernelspec": {
      "display_name": "Python 3",
      "name": "python3"
    },
    "language_info": {
      "name": "python"
    }
  },
  "nbformat": 4,
  "nbformat_minor": 0
}
