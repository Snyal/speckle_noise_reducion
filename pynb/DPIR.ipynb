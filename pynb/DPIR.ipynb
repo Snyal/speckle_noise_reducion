{
  "nbformat": 4,
  "nbformat_minor": 0,
  "metadata": {
    "colab": {
      "provenance": []
    },
    "kernelspec": {
      "name": "python3",
      "display_name": "Python 3"
    },
    "language_info": {
      "name": "python"
    },
    "accelerator": "GPU",
    "gpuClass": "standard"
  },
  "cells": [
    {
      "cell_type": "code",
      "execution_count": null,
      "metadata": {
        "colab": {
          "base_uri": "https://localhost:8080/"
        },
        "id": "muJkL6a-9vqA",
        "outputId": "b819cff9-0830-43b3-8fec-3949adf5007b"
      },
      "outputs": [
        {
          "output_type": "stream",
          "name": "stdout",
          "text": [
            "Cloning into 'DPIR'...\n",
            "remote: Enumerating objects: 239, done.\u001b[K\n",
            "remote: Counting objects: 100% (60/60), done.\u001b[K\n",
            "remote: Compressing objects: 100% (25/25), done.\u001b[K\n",
            "remote: Total 239 (delta 48), reused 35 (delta 35), pack-reused 179\u001b[K\n",
            "Receiving objects: 100% (239/239), 6.85 MiB | 18.12 MiB/s, done.\n",
            "Resolving deltas: 100% (104/104), done.\n",
            "/content/DPIR\n"
          ]
        }
      ],
      "source": [
        "!git clone https://github.com/cszn/DPIR.git\n",
        "%cd DPIR"
      ]
    },
    {
      "cell_type": "code",
      "source": [
        "!cp /content/drive/MyDrive/projet_imagerie/DPIR/model/drunet_color.pth /content/DPIR/model_zoo\n",
        "!mkdir /content/DPIR/testsets/bsd68\n",
        "!cp /content/drive/MyDrive/projet_imagerie/data/base_images/* /content/DPIR/testsets/bsd68"
      ],
      "metadata": {
        "id": "9xeOYCA5-IA-"
      },
      "execution_count": null,
      "outputs": []
    },
    {
      "cell_type": "code",
      "source": [
        "!python3 main_dpir_denoising.py"
      ],
      "metadata": {
        "colab": {
          "base_uri": "https://localhost:8080/"
        },
        "id": "KgbmaxOZAk5Y",
        "outputId": "2030f5a0-0466-4379-89b7-1373ac0b5a77"
      },
      "execution_count": null,
      "outputs": [
        {
          "output_type": "stream",
          "name": "stdout",
          "text": [
            "LogHandlers setup!\n",
            "23-03-10 15:06:01.224 : Model path: model_zoo/drunet_color.pth\n",
            "23-03-10 15:06:01.225 : Params number: 32640960\n",
            "23-03-10 15:06:01.225 : model_name:drunet_color, model sigma:0, image sigma:0\n",
            "23-03-10 15:06:01.225 : testsets/bsd68\n",
            "23-03-10 15:06:05.445 : fil20M.png - PSNR: 52.45 dB; SSIM: 0.9941.\n",
            "23-03-10 15:06:08.250 : fil20M1.png - PSNR: 53.35 dB; SSIM: 0.9965.\n",
            "23-03-10 15:06:11.228 : fil20M2.png - PSNR: 52.73 dB; SSIM: 0.9960.\n",
            "23-03-10 15:06:14.513 : fil20M3.png - PSNR: 52.80 dB; SSIM: 0.9962.\n",
            "23-03-10 15:06:17.376 : fil20M4.png - PSNR: 52.96 dB; SSIM: 0.9965.\n",
            "23-03-10 15:06:20.203 : fil20M5.png - PSNR: 53.45 dB; SSIM: 0.9966.\n",
            "23-03-10 15:06:23.170 : fil50M1.png - PSNR: 68.03 dB; SSIM: 0.9998.\n",
            "23-03-10 15:06:26.462 : fil50M2.png - PSNR: 64.54 dB; SSIM: 0.9996.\n",
            "23-03-10 15:06:29.413 : fil50M3.png - PSNR: 64.99 dB; SSIM: 0.9996.\n",
            "23-03-10 15:06:32.227 : fil50M4.png - PSNR: 64.90 dB; SSIM: 0.9996.\n",
            "23-03-10 15:06:35.021 : follicule_pileux20M.png - PSNR: 52.46 dB; SSIM: 0.9943.\n",
            "23-03-10 15:06:37.844 : image1.png - PSNR: 52.45 dB; SSIM: 0.9941.\n",
            "23-03-10 15:06:41.116 : image20M1.png - PSNR: 59.99 dB; SSIM: 0.9992.\n",
            "23-03-10 15:06:44.076 : image20M2.png - PSNR: 56.28 dB; SSIM: 0.9985.\n",
            "23-03-10 15:06:46.911 : lapin20M1.png - PSNR: 54.49 dB; SSIM: 0.9975.\n",
            "23-03-10 15:06:49.684 : lapin50M1.png - PSNR: 68.24 dB; SSIM: 0.9998.\n",
            "23-03-10 15:06:52.789 : lapin50M2.png - PSNR: 67.97 dB; SSIM: 0.9998.\n",
            "23-03-10 15:06:56.008 : lapin50M3.png - PSNR: 67.93 dB; SSIM: 0.9998.\n",
            "23-03-10 15:06:58.851 : lapin50M4.png - PSNR: 67.39 dB; SSIM: 0.9998.\n",
            "23-03-10 15:07:01.617 : lapin50M5.png - PSNR: 67.48 dB; SSIM: 0.9998.\n",
            "23-03-10 15:07:04.390 : lapin50M6.png - PSNR: 67.28 dB; SSIM: 0.9998.\n",
            "23-03-10 15:07:07.624 : lapin50M7.png - PSNR: 67.01 dB; SSIM: 0.9998.\n",
            "23-03-10 15:07:10.601 : rein_souris20M1Grd.png - PSNR: 56.37 dB; SSIM: 1.0000.\n",
            "23-03-10 15:07:13.446 : sonde20M1.png - PSNR: 52.46 dB; SSIM: 0.9943.\n",
            "23-03-10 15:07:16.233 : sonde20M2.png - PSNR: 52.45 dB; SSIM: 0.9948.\n",
            "23-03-10 15:07:19.061 : sonde20M3.png - PSNR: 52.46 dB; SSIM: 0.9945.\n",
            "23-03-10 15:07:22.371 : sonde50M1.png - PSNR: 52.74 dB; SSIM: 0.9949.\n",
            "23-03-10 15:07:25.305 : sonde50M2.png - PSNR: 52.79 dB; SSIM: 0.9949.\n",
            "23-03-10 15:07:25.373 : Average PSNR/SSIM(RGB) - bsd68_dn_drunet_color - PSNR: 58.87 dB; SSIM: 0.9975\n"
          ]
        }
      ]
    },
    {
      "cell_type": "code",
      "source": [
        "!mv /content/DPIR/results/bsd68_dn_drunet_color/* /content/drive/MyDrive/projet_imagerie/DPIR/results"
      ],
      "metadata": {
        "id": "SNk4X6KvDVBf"
      },
      "execution_count": null,
      "outputs": []
    },
    {
      "cell_type": "code",
      "source": [
        "!python3 main_download_pretrained_models.py"
      ],
      "metadata": {
        "colab": {
          "base_uri": "https://localhost:8080/"
        },
        "id": "LVJQwydZEeU-",
        "outputId": "593edd8a-9172-4b28-f136-1b6ce9a5a12d"
      },
      "execution_count": null,
      "outputs": [
        {
          "output_type": "stream",
          "name": "stdout",
          "text": [
            "trying to download ['dncnn3.pth']\n",
            "downloading [model_zoo/dncnn3.pth] ...\n",
            "done!\n"
          ]
        }
      ]
    }
  ]
}