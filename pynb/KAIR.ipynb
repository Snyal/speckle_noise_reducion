{
  "nbformat": 4,
  "nbformat_minor": 0,
  "metadata": {
    "colab": {
      "provenance": []
    },
    "kernelspec": {
      "name": "python3",
      "display_name": "Python 3"
    },
    "language_info": {
      "name": "python"
    },
    "accelerator": "GPU",
    "gpuClass": "standard"
  },
  "cells": [
    {
      "cell_type": "code",
      "source": [
        "!git clone https://github.com/cszn/KAIR.git\n",
        "%cd KAIR"
      ],
      "metadata": {
        "colab": {
          "base_uri": "https://localhost:8080/"
        },
        "id": "RkCwSr0jNvSS",
        "outputId": "9e3563a3-1ed9-4822-a840-398966eeedac"
      },
      "execution_count": 2,
      "outputs": [
        {
          "output_type": "stream",
          "name": "stdout",
          "text": [
            "Cloning into 'KAIR'...\n",
            "remote: Enumerating objects: 1773, done.\u001b[K\n",
            "remote: Total 1773 (delta 0), reused 0 (delta 0), pack-reused 1773\u001b[K\n",
            "Receiving objects: 100% (1773/1773), 19.38 MiB | 39.84 MiB/s, done.\n",
            "Resolving deltas: 100% (1051/1051), done.\n",
            "/content/KAIR\n"
          ]
        }
      ]
    },
    {
      "cell_type": "code",
      "source": [
        "!mkdir /content/KAIR/testsets/base_images\n",
        "!cp /content/drive/MyDrive/projet_imagerie/data/base_images/* /content/KAIR/testsets/base_images"
      ],
      "metadata": {
        "id": "1HirXgYcHPyB"
      },
      "execution_count": 3,
      "outputs": []
    },
    {
      "cell_type": "markdown",
      "source": [
        "### DnCNN"
      ],
      "metadata": {
        "id": "lyrsdgSbLqk8"
      }
    },
    {
      "cell_type": "code",
      "source": [
        "!python3 main_download_pretrained_models.py --models dncnn_color_blind.pth"
      ],
      "metadata": {
        "colab": {
          "base_uri": "https://localhost:8080/"
        },
        "id": "5N3MiikxHyov",
        "outputId": "1f477f5d-e0f4-41b7-d993-fc93e570a848"
      },
      "execution_count": 4,
      "outputs": [
        {
          "output_type": "stream",
          "name": "stdout",
          "text": [
            "trying to download ['dncnn_color_blind.pth']\n",
            "downloading [model_zoo/dncnn_color_blind.pth] ...\n",
            "done!\n"
          ]
        }
      ]
    },
    {
      "cell_type": "code",
      "source": [
        "!python3 main_test_dncnn.py --model_name dncnn_color_blind --need_degradation False --testset_name base_images"
      ],
      "metadata": {
        "colab": {
          "base_uri": "https://localhost:8080/"
        },
        "id": "eZy-yOY7IFNW",
        "outputId": "ec4b8a76-9c35-498f-944b-50d86750662b"
      },
      "execution_count": 12,
      "outputs": [
        {
          "output_type": "stream",
          "name": "stdout",
          "text": [
            "LogHandlers setup!\n",
            "23-03-10 16:08:31.451 : Model path: model_zoo/dncnn_color_blind.pth\n",
            "23-03-10 16:08:31.451 : Params number: 668227\n",
            "23-03-10 16:08:31.451 : model_name:dncnn_color_blind, image sigma:15\n",
            "23-03-10 16:08:31.451 : testsets/base_images\n",
            "23-03-10 16:08:33.947 : fil20M.png - PSNR: 19.48 dB; SSIM: 0.4332.\n",
            "23-03-10 16:08:34.983 : fil20M1.png - PSNR: 20.68 dB; SSIM: 0.5222.\n",
            "23-03-10 16:08:36.010 : fil20M2.png - PSNR: 20.10 dB; SSIM: 0.5286.\n",
            "23-03-10 16:08:37.107 : fil20M3.png - PSNR: 20.21 dB; SSIM: 0.5313.\n",
            "23-03-10 16:08:38.343 : fil20M4.png - PSNR: 20.39 dB; SSIM: 0.5384.\n",
            "23-03-10 16:08:39.598 : fil20M5.png - PSNR: 20.82 dB; SSIM: 0.5288.\n",
            "23-03-10 16:08:40.780 : fil50M1.png - PSNR: 34.42 dB; SSIM: 0.8243.\n",
            "23-03-10 16:08:41.781 : fil50M2.png - PSNR: 31.09 dB; SSIM: 0.7774.\n",
            "23-03-10 16:08:42.793 : fil50M3.png - PSNR: 31.84 dB; SSIM: 0.7952.\n",
            "23-03-10 16:08:43.811 : fil50M4.png - PSNR: 31.72 dB; SSIM: 0.7861.\n",
            "23-03-10 16:08:44.851 : follicule_pileux20M.png - PSNR: 19.86 dB; SSIM: 0.4632.\n",
            "23-03-10 16:08:45.848 : image1.png - PSNR: 19.48 dB; SSIM: 0.4332.\n",
            "23-03-10 16:08:46.901 : image20M1.png - PSNR: 26.10 dB; SSIM: 0.7089.\n",
            "23-03-10 16:08:47.933 : image20M2.png - PSNR: 22.88 dB; SSIM: 0.6374.\n",
            "23-03-10 16:08:48.974 : lapin20M1.png - PSNR: 21.88 dB; SSIM: 0.5133.\n",
            "23-03-10 16:08:49.964 : lapin50M1.png - PSNR: 34.26 dB; SSIM: 0.8259.\n",
            "23-03-10 16:08:51.089 : lapin50M2.png - PSNR: 34.13 dB; SSIM: 0.8250.\n",
            "23-03-10 16:08:52.314 : lapin50M3.png - PSNR: 34.02 dB; SSIM: 0.8227.\n",
            "23-03-10 16:08:53.534 : lapin50M4.png - PSNR: 33.64 dB; SSIM: 0.8177.\n",
            "23-03-10 16:08:54.589 : lapin50M5.png - PSNR: 33.81 dB; SSIM: 0.8237.\n",
            "23-03-10 16:08:55.568 : lapin50M6.png - PSNR: 33.76 dB; SSIM: 0.8227.\n",
            "23-03-10 16:08:56.559 : lapin50M7.png - PSNR: 33.54 dB; SSIM: 0.8197.\n",
            "23-03-10 16:08:57.563 : rein_souris20M1Grd.png - PSNR: 23.85 dB; SSIM: 0.9422.\n",
            "23-03-10 16:08:58.595 : sonde20M1.png - PSNR: 19.86 dB; SSIM: 0.4632.\n",
            "23-03-10 16:08:59.615 : sonde20M2.png - PSNR: 19.81 dB; SSIM: 0.4738.\n",
            "23-03-10 16:09:00.611 : sonde20M3.png - PSNR: 19.86 dB; SSIM: 0.4719.\n",
            "23-03-10 16:09:01.614 : sonde50M1.png - PSNR: 19.93 dB; SSIM: 0.4614.\n",
            "23-03-10 16:09:02.597 : sonde50M2.png - PSNR: 19.90 dB; SSIM: 0.4587.\n",
            "23-03-10 16:09:02.666 : Average PSNR/SSIM(RGB) - base_images_dncnn_color_blind - PSNR: 25.76 dB; SSIM: 0.6446\n"
          ]
        }
      ]
    },
    {
      "cell_type": "code",
      "source": [
        "!cp /content/KAIR/results/base_images_dncnn_color_blind/* /content/drive/MyDrive/projet_imagerie/espoir/results/dcnn3_color/"
      ],
      "metadata": {
        "id": "RohUYrJcSSqW"
      },
      "execution_count": 13,
      "outputs": []
    },
    {
      "cell_type": "markdown",
      "source": [
        "### GAN"
      ],
      "metadata": {
        "id": "oJgtMVAZLwea"
      }
    },
    {
      "cell_type": "code",
      "source": [
        "!python3 main_download_pretrained_models.py --models BSRGAN.pth"
      ],
      "metadata": {
        "colab": {
          "base_uri": "https://localhost:8080/"
        },
        "id": "ynuFC4cwLvyh",
        "outputId": "6e5c039b-f2b5-44ab-b195-c42b773301a6"
      },
      "execution_count": 9,
      "outputs": [
        {
          "output_type": "stream",
          "name": "stdout",
          "text": [
            "trying to download ['BSRGAN.pth']\n",
            "downloading [model_zoo/BSRGAN.pth] ...\n",
            "done!\n"
          ]
        }
      ]
    },
    {
      "cell_type": "code",
      "source": [
        "!cp /content/drive/MyDrive/projet_imagerie/espoir/main_test_bsrgan.py ."
      ],
      "metadata": {
        "id": "uOdPtgcqOz7_"
      },
      "execution_count": 6,
      "outputs": []
    },
    {
      "cell_type": "code",
      "source": [
        "!python3 main_test_bsrgan.py"
      ],
      "metadata": {
        "colab": {
          "base_uri": "https://localhost:8080/"
        },
        "id": "ljcpB7UzNOnA",
        "outputId": "172cba3d-297c-4875-f27d-7fa4e51af420"
      },
      "execution_count": 10,
      "outputs": [
        {
          "output_type": "stream",
          "name": "stdout",
          "text": [
            "LogHandlers setup!\n",
            "23-03-10 16:02:55.772 :       Model Name : BSRGAN\n",
            "23-03-10 16:02:55.787 :           GPU ID : 0\n",
            "[3, 3, 64, 23, 32, 4]\n",
            "23-03-10 16:02:58.588 :       Input Path : testsets/base_images\n",
            "23-03-10 16:02:58.588 :      Output Path : testsets/base_images_results_x4\n",
            "23-03-10 16:02:58.588 : ---1 --> BSRGAN --> x4--> fil20M.png\n",
            "23-03-10 16:03:11.010 : ---2 --> BSRGAN --> x4--> fil20M1.png\n",
            "23-03-10 16:03:21.768 : ---3 --> BSRGAN --> x4--> fil20M2.png\n",
            "23-03-10 16:03:32.606 : ---4 --> BSRGAN --> x4--> fil20M3.png\n",
            "23-03-10 16:03:43.489 : ---5 --> BSRGAN --> x4--> fil20M4.png\n",
            "23-03-10 16:03:54.551 : ---6 --> BSRGAN --> x4--> fil20M5.png\n",
            "23-03-10 16:04:06.084 : ---7 --> BSRGAN --> x4--> fil50M1.png\n",
            "23-03-10 16:04:16.559 : ---8 --> BSRGAN --> x4--> fil50M2.png\n",
            "23-03-10 16:04:27.265 : ---9 --> BSRGAN --> x4--> fil50M3.png\n",
            "23-03-10 16:04:38.015 : --10 --> BSRGAN --> x4--> fil50M4.png\n",
            "23-03-10 16:04:48.989 : --11 --> BSRGAN --> x4--> follicule_pileux20M.png\n",
            "23-03-10 16:05:00.468 : --12 --> BSRGAN --> x4--> image1.png\n",
            "23-03-10 16:05:11.810 : --13 --> BSRGAN --> x4--> image20M1.png\n",
            "23-03-10 16:05:23.349 : --14 --> BSRGAN --> x4--> image20M2.png\n",
            "23-03-10 16:05:34.904 : --15 --> BSRGAN --> x4--> lapin20M1.png\n",
            "23-03-10 16:05:46.323 : --16 --> BSRGAN --> x4--> lapin50M1.png\n",
            "23-03-10 16:05:57.269 : --17 --> BSRGAN --> x4--> lapin50M2.png\n",
            "23-03-10 16:06:08.430 : --18 --> BSRGAN --> x4--> lapin50M3.png\n",
            "23-03-10 16:06:19.374 : --19 --> BSRGAN --> x4--> lapin50M4.png\n",
            "23-03-10 16:06:30.352 : --20 --> BSRGAN --> x4--> lapin50M5.png\n",
            "23-03-10 16:06:41.318 : --21 --> BSRGAN --> x4--> lapin50M6.png\n",
            "23-03-10 16:06:52.386 : --22 --> BSRGAN --> x4--> lapin50M7.png\n",
            "23-03-10 16:07:03.814 : --23 --> BSRGAN --> x4--> rein_souris20M1Grd.png\n",
            "23-03-10 16:07:15.737 : --24 --> BSRGAN --> x4--> sonde20M1.png\n",
            "23-03-10 16:07:27.157 : --25 --> BSRGAN --> x4--> sonde20M2.png\n",
            "23-03-10 16:07:38.786 : --26 --> BSRGAN --> x4--> sonde20M3.png\n",
            "23-03-10 16:07:50.298 : --27 --> BSRGAN --> x4--> sonde50M1.png\n",
            "23-03-10 16:08:01.994 : --28 --> BSRGAN --> x4--> sonde50M2.png\n"
          ]
        }
      ]
    },
    {
      "cell_type": "code",
      "source": [
        "!cp /content/KAIR/testsets/base_images_results_x4/* /content/drive/MyDrive/projet_imagerie/espoir/results/gan_color"
      ],
      "metadata": {
        "id": "LDsnyFnYPT8H"
      },
      "execution_count": 11,
      "outputs": []
    },
    {
      "cell_type": "markdown",
      "source": [
        "### DPIR"
      ],
      "metadata": {
        "id": "RxcwROH0Wu2p"
      }
    },
    {
      "cell_type": "code",
      "source": [
        "!python3 main_download_pretrained_models.py --models drunet_color.pth"
      ],
      "metadata": {
        "id": "nanLGLCIWuYk"
      },
      "execution_count": 23,
      "outputs": []
    },
    {
      "cell_type": "code",
      "source": [
        "!cp /content/drive/MyDrive/projet_imagerie/espoir/main_dpir_denoising.py ."
      ],
      "metadata": {
        "id": "TiI0YhtfXjIz"
      },
      "execution_count": 17,
      "outputs": []
    },
    {
      "cell_type": "code",
      "source": [
        "!python3 main_dpir_denoising.py"
      ],
      "metadata": {
        "colab": {
          "base_uri": "https://localhost:8080/"
        },
        "id": "kMf6ep9QXBAy",
        "outputId": "c3318519-7559-4426-9a8e-b22e8a3ff26b"
      },
      "execution_count": 24,
      "outputs": [
        {
          "output_type": "stream",
          "name": "stdout",
          "text": [
            "LogHandlers setup!\n",
            "Traceback (most recent call last):\n",
            "  File \"/content/KAIR/main_dpir_denoising.py\", line 170, in <module>\n",
            "    main()\n",
            "  File \"/content/KAIR/main_dpir_denoising.py\", line 94, in main\n",
            "    model.load_state_dict(torch.load(model_path), strict=True)\n",
            "  File \"/usr/local/lib/python3.9/dist-packages/torch/nn/modules/module.py\", line 1671, in load_state_dict\n",
            "    raise RuntimeError('Error(s) in loading state_dict for {}:\\n\\t{}'.format(\n",
            "RuntimeError: Error(s) in loading state_dict for UNetRes:\n",
            "\tMissing key(s) in state_dict: \"m_head.bias\", \"m_down1.0.res.0.bias\", \"m_down1.0.res.2.bias\", \"m_down1.1.res.0.bias\", \"m_down1.1.res.2.bias\", \"m_down1.2.res.0.bias\", \"m_down1.2.res.2.bias\", \"m_down1.3.res.0.bias\", \"m_down1.3.res.2.bias\", \"m_down1.4.bias\", \"m_down2.0.res.0.bias\", \"m_down2.0.res.2.bias\", \"m_down2.1.res.0.bias\", \"m_down2.1.res.2.bias\", \"m_down2.2.res.0.bias\", \"m_down2.2.res.2.bias\", \"m_down2.3.res.0.bias\", \"m_down2.3.res.2.bias\", \"m_down2.4.bias\", \"m_down3.0.res.0.bias\", \"m_down3.0.res.2.bias\", \"m_down3.1.res.0.bias\", \"m_down3.1.res.2.bias\", \"m_down3.2.res.0.bias\", \"m_down3.2.res.2.bias\", \"m_down3.3.res.0.bias\", \"m_down3.3.res.2.bias\", \"m_down3.4.bias\", \"m_body.0.res.0.bias\", \"m_body.0.res.2.bias\", \"m_body.1.res.0.bias\", \"m_body.1.res.2.bias\", \"m_body.2.res.0.bias\", \"m_body.2.res.2.bias\", \"m_body.3.res.0.bias\", \"m_body.3.res.2.bias\", \"m_up3.0.bias\", \"m_up3.1.res.0.bias\", \"m_up3.1.res.2.bias\", \"m_up3.2.res.0.bias\", \"m_up3.2.res.2.bias\", \"m_up3.3.res.0.bias\", \"m_up3.3.res.2.bias\", \"m_up3.4.res.0.bias\", \"m_up3.4.res.2.bias\", \"m_up2.0.bias\", \"m_up2.1.res.0.bias\", \"m_up2.1.res.2.bias\", \"m_up2.2.res.0.bias\", \"m_up2.2.res.2.bias\", \"m_up2.3.res.0.bias\", \"m_up2.3.res.2.bias\", \"m_up2.4.res.0.bias\", \"m_up2.4.res.2.bias\", \"m_up1.0.bias\", \"m_up1.1.res.0.bias\", \"m_up1.1.res.2.bias\", \"m_up1.2.res.0.bias\", \"m_up1.2.res.2.bias\", \"m_up1.3.res.0.bias\", \"m_up1.3.res.2.bias\", \"m_up1.4.res.0.bias\", \"m_up1.4.res.2.bias\", \"m_tail.bias\". \n"
          ]
        }
      ]
    },
    {
      "cell_type": "markdown",
      "source": [
        "## Download"
      ],
      "metadata": {
        "id": "HczBaK7IMn80"
      }
    },
    {
      "cell_type": "code",
      "source": [
        "!cp /content/KAIR-1.1/results/base_images_dncnn_color_blind/* /content/drive/MyDrive/projet_imagerie/espoir/results/dcnn_color/"
      ],
      "metadata": {
        "id": "M4N1cFhmIrJQ"
      },
      "execution_count": 18,
      "outputs": []
    }
  ]
}