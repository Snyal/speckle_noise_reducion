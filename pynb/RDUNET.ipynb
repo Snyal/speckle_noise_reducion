{
  "nbformat": 4,
  "nbformat_minor": 0,
  "metadata": {
    "colab": {
      "provenance": []
    },
    "kernelspec": {
      "name": "python3",
      "display_name": "Python 3"
    },
    "language_info": {
      "name": "python"
    },
    "accelerator": "GPU",
    "gpuClass": "standard"
  },
  "cells": [
    {
      "cell_type": "code",
      "execution_count": null,
      "metadata": {
        "id": "WHMlSzDwjr2K",
        "colab": {
          "base_uri": "https://localhost:8080/"
        },
        "outputId": "fb5cdeb7-ab0a-4d7d-eb86-0cc592a8677b"
      },
      "outputs": [
        {
          "output_type": "stream",
          "name": "stdout",
          "text": [
            "Cloning into 'RDUNet'...\n",
            "remote: Enumerating objects: 257, done.\u001b[K\n",
            "remote: Counting objects: 100% (76/76), done.\u001b[K\n",
            "remote: Compressing objects: 100% (74/74), done.\u001b[K\n",
            "remote: Total 257 (delta 34), reused 0 (delta 0), pack-reused 181\u001b[K\n",
            "Receiving objects: 100% (257/257), 9.83 MiB | 5.93 MiB/s, done.\n",
            "Resolving deltas: 100% (103/103), done.\n"
          ]
        }
      ],
      "source": [
        "!git clone https://github.com/JavierGurrola/RDUNet.git"
      ]
    },
    {
      "cell_type": "code",
      "source": [
        "#Pre-trained models\n",
        "\n",
        "!cp /content/drive/MyDrive/projet_imagerie/RDUNET/model_color.zip model_color.zip\n",
        "!unzip model_color.zip"
      ],
      "metadata": {
        "id": "FTOv3l7kkc-d",
        "colab": {
          "base_uri": "https://localhost:8080/"
        },
        "outputId": "c5611c97-5332-497b-819e-f269bc8c9023"
      },
      "execution_count": null,
      "outputs": [
        {
          "output_type": "stream",
          "name": "stdout",
          "text": [
            "Archive:  model_color.zip\n",
            "  inflating: model_color.pth         \n"
          ]
        }
      ]
    },
    {
      "cell_type": "code",
      "source": [
        "!mv /content/model_color.pth /content/RDUNet/Pretrained"
      ],
      "metadata": {
        "id": "pFnlGkZ6kv9V"
      },
      "execution_count": null,
      "outputs": []
    },
    {
      "cell_type": "code",
      "source": [
        "%cd /content/RDUNet"
      ],
      "metadata": {
        "colab": {
          "base_uri": "https://localhost:8080/"
        },
        "id": "CCACJCJTlM3I",
        "outputId": "f11fb863-6204-4c55-eb89-d46646124bbf"
      },
      "execution_count": null,
      "outputs": [
        {
          "output_type": "stream",
          "name": "stdout",
          "text": [
            "/content/RDUNet\n"
          ]
        }
      ]
    },
    {
      "cell_type": "code",
      "source": [
        "!ls"
      ],
      "metadata": {
        "colab": {
          "base_uri": "https://localhost:8080/"
        },
        "id": "Ab-omjpQlWiH",
        "outputId": "2dea23b2-5f4e-4960-c285-8e4eec18b310"
      },
      "execution_count": null,
      "outputs": [
        {
          "output_type": "stream",
          "name": "stdout",
          "text": [
            "Checkpoints\t    Figs\t   metrics.py  Results\t\tutils.py\n",
            "config.yaml\t    LICENSE\t   model.py    train_files.txt\tval_files.txt\n",
            "data_management.py  main_test.py   Pretrained  train.py\n",
            "Datasets\t    main_train.py  README.md   transforms.py\n"
          ]
        }
      ]
    },
    {
      "cell_type": "code",
      "source": [
        "!cp /content/drive/MyDrive/projet_imagerie/RDUNET/data/cbsd68_label_color.mat Datasets/Test/cbsd68_label_color.mat\n",
        "!cp /content/drive/MyDrive/projet_imagerie/RDUNET/data/noisy_cbsd68_50_color.mat Datasets/Test/noisy_cbsd68_10_color.mat"
      ],
      "metadata": {
        "id": "qHyZc9T5l5NH"
      },
      "execution_count": null,
      "outputs": []
    },
    {
      "cell_type": "code",
      "source": [
        "!python main_test.py"
      ],
      "metadata": {
        "colab": {
          "base_uri": "https://localhost:8080/"
        },
        "id": "KS6_fMH-lGzR",
        "outputId": "3f7f9138-7470-4f3c-cdf3-c40ed99568ed"
      },
      "execution_count": null,
      "outputs": [
        {
          "output_type": "stream",
          "name": "stdout",
          "text": [
            "Using device: cuda:0\n",
            "Dataset:  noisy_cbsd68_\n",
            "/content/RDUNet/main_test.py:47: FutureWarning: `multichannel` is a deprecated argument name for `structural_similarity`. It will be removed in version 1.0. Please use `channel_axis` instead.\n",
            "  ssim = structural_similarity(y, y_hat, data_range=1., multichannel=multi_channel, gaussian_weights=True,\n",
            "/content/RDUNet/main_test.py:51: FutureWarning: `multichannel` is a deprecated argument name for `structural_similarity`. It will be removed in version 1.0. Please use `channel_axis` instead.\n",
            "  ssim_ens = structural_similarity(y, y_hat_ens, data_range=1., multichannel=multi_channel,\n",
            "Image: 1 - PSNR: 24.9551 - SSIM: 0.8084 - ens PSNR: 25.0358 - ens SSIM: 0.8483\n",
            "Image: 2 - PSNR: 32.8739 - SSIM: 0.9717 - ens PSNR: 33.2263 - ens SSIM: 0.9825\n",
            "Image: 3 - PSNR: 32.5859 - SSIM: 0.9703 - ens PSNR: 32.9982 - ens SSIM: 0.9801\n",
            "Image: 4 - PSNR: 32.8088 - SSIM: 0.9701 - ens PSNR: 33.1676 - ens SSIM: 0.9797\n",
            "Image: 5 - PSNR: 32.9372 - SSIM: 0.9697 - ens PSNR: 33.3560 - ens SSIM: 0.9792\n",
            "Image: 6 - PSNR: 32.9618 - SSIM: 0.9708 - ens PSNR: 33.3690 - ens SSIM: 0.9818\n",
            "Image: 7 - PSNR: 45.7933 - SSIM: 0.9107 - ens PSNR: 46.9066 - ens SSIM: 0.9519\n",
            "Image: 8 - PSNR: 43.6995 - SSIM: 0.9150 - ens PSNR: 44.5542 - ens SSIM: 0.9592\n",
            "Image: 9 - PSNR: 44.2454 - SSIM: 0.9120 - ens PSNR: 45.1920 - ens SSIM: 0.9551\n",
            "Image: 10 - PSNR: 44.0642 - SSIM: 0.9117 - ens PSNR: 45.0486 - ens SSIM: 0.9575\n",
            "Image: 11 - PSNR: 24.5163 - SSIM: 0.7048 - ens PSNR: 24.5331 - ens SSIM: 0.7727\n",
            "Image: 12 - PSNR: 24.9551 - SSIM: 0.8084 - ens PSNR: 25.0358 - ens SSIM: 0.8483\n",
            "Image: 13 - PSNR: 40.7380 - SSIM: 0.9836 - ens PSNR: 41.4057 - ens SSIM: 0.9826\n",
            "Image: 14 - PSNR: 36.4942 - SSIM: 0.9791 - ens PSNR: 37.1263 - ens SSIM: 0.9788\n",
            "Image: 15 - PSNR: 33.3958 - SSIM: 0.9688 - ens PSNR: 33.8474 - ens SSIM: 0.9822\n",
            "Image: 16 - PSNR: 45.7566 - SSIM: 0.9095 - ens PSNR: 46.8890 - ens SSIM: 0.9510\n",
            "Image: 17 - PSNR: 45.7104 - SSIM: 0.9098 - ens PSNR: 46.8403 - ens SSIM: 0.9513\n",
            "Image: 18 - PSNR: 45.4710 - SSIM: 0.9103 - ens PSNR: 46.5351 - ens SSIM: 0.9516\n",
            "Image: 19 - PSNR: 45.3925 - SSIM: 0.9111 - ens PSNR: 46.4565 - ens SSIM: 0.9525\n",
            "Image: 20 - PSNR: 45.5855 - SSIM: 0.9107 - ens PSNR: 46.6264 - ens SSIM: 0.9518\n",
            "Image: 21 - PSNR: 45.4677 - SSIM: 0.9107 - ens PSNR: 46.5424 - ens SSIM: 0.9518\n",
            "Image: 22 - PSNR: 45.5201 - SSIM: 0.9113 - ens PSNR: 46.6069 - ens SSIM: 0.9525\n",
            "Image: 23 - PSNR: 39.8346 - SSIM: 0.9982 - ens PSNR: 40.7523 - ens SSIM: 0.9984\n",
            "Image: 24 - PSNR: 24.5163 - SSIM: 0.7048 - ens PSNR: 24.5331 - ens SSIM: 0.7727\n",
            "Image: 25 - PSNR: 25.9650 - SSIM: 0.8168 - ens PSNR: 25.9780 - ens SSIM: 0.8571\n",
            "Image: 26 - PSNR: 25.0513 - SSIM: 0.7499 - ens PSNR: 25.0439 - ens SSIM: 0.8059\n",
            "Image: 27 - PSNR: 26.6941 - SSIM: 0.8825 - ens PSNR: 26.4466 - ens SSIM: 0.8979\n",
            "Image: 28 - PSNR: 26.3794 - SSIM: 0.8697 - ens PSNR: 26.1549 - ens SSIM: 0.8856\n",
            "sigma = 10 - PSNR: 36.2275 - SSIM: 0.8982 - ens PSNR: 36.7931 - ens SSIM: 0.9293\n",
            "Image: 1 - PSNR: 24.9551 - SSIM: 0.8084 - ens PSNR: 25.0358 - ens SSIM: 0.8483\n",
            "Image: 2 - PSNR: 32.8739 - SSIM: 0.9717 - ens PSNR: 33.2263 - ens SSIM: 0.9825\n",
            "Image: 3 - PSNR: 32.5859 - SSIM: 0.9703 - ens PSNR: 32.9982 - ens SSIM: 0.9801\n",
            "Image: 4 - PSNR: 32.8088 - SSIM: 0.9701 - ens PSNR: 33.1676 - ens SSIM: 0.9797\n",
            "Image: 5 - PSNR: 32.9372 - SSIM: 0.9697 - ens PSNR: 33.3560 - ens SSIM: 0.9792\n",
            "Image: 6 - PSNR: 32.9618 - SSIM: 0.9708 - ens PSNR: 33.3690 - ens SSIM: 0.9818\n",
            "Image: 7 - PSNR: 45.7933 - SSIM: 0.9107 - ens PSNR: 46.9066 - ens SSIM: 0.9519\n",
            "Image: 8 - PSNR: 43.6995 - SSIM: 0.9150 - ens PSNR: 44.5542 - ens SSIM: 0.9592\n",
            "Image: 9 - PSNR: 44.2454 - SSIM: 0.9120 - ens PSNR: 45.1920 - ens SSIM: 0.9551\n",
            "Image: 10 - PSNR: 44.0642 - SSIM: 0.9117 - ens PSNR: 45.0486 - ens SSIM: 0.9575\n",
            "Image: 11 - PSNR: 24.5163 - SSIM: 0.7048 - ens PSNR: 24.5331 - ens SSIM: 0.7727\n",
            "Image: 12 - PSNR: 24.9551 - SSIM: 0.8084 - ens PSNR: 25.0358 - ens SSIM: 0.8483\n",
            "Image: 13 - PSNR: 40.7380 - SSIM: 0.9836 - ens PSNR: 41.4057 - ens SSIM: 0.9826\n",
            "Image: 14 - PSNR: 36.4942 - SSIM: 0.9791 - ens PSNR: 37.1263 - ens SSIM: 0.9788\n",
            "Image: 15 - PSNR: 33.3958 - SSIM: 0.9688 - ens PSNR: 33.8474 - ens SSIM: 0.9822\n",
            "Image: 16 - PSNR: 45.7566 - SSIM: 0.9095 - ens PSNR: 46.8890 - ens SSIM: 0.9510\n",
            "Image: 17 - PSNR: 45.7104 - SSIM: 0.9098 - ens PSNR: 46.8403 - ens SSIM: 0.9513\n",
            "Image: 18 - PSNR: 45.4710 - SSIM: 0.9103 - ens PSNR: 46.5351 - ens SSIM: 0.9516\n",
            "Image: 19 - PSNR: 45.3925 - SSIM: 0.9111 - ens PSNR: 46.4565 - ens SSIM: 0.9525\n",
            "Image: 20 - PSNR: 45.5855 - SSIM: 0.9107 - ens PSNR: 46.6264 - ens SSIM: 0.9518\n",
            "Image: 21 - PSNR: 45.4677 - SSIM: 0.9107 - ens PSNR: 46.5424 - ens SSIM: 0.9518\n",
            "Image: 22 - PSNR: 45.5201 - SSIM: 0.9113 - ens PSNR: 46.6069 - ens SSIM: 0.9525\n",
            "Image: 23 - PSNR: 39.8346 - SSIM: 0.9982 - ens PSNR: 40.7523 - ens SSIM: 0.9984\n",
            "Image: 24 - PSNR: 24.5163 - SSIM: 0.7048 - ens PSNR: 24.5331 - ens SSIM: 0.7727\n",
            "Image: 25 - PSNR: 25.9650 - SSIM: 0.8168 - ens PSNR: 25.9780 - ens SSIM: 0.8571\n",
            "Image: 26 - PSNR: 25.0513 - SSIM: 0.7499 - ens PSNR: 25.0439 - ens SSIM: 0.8059\n",
            "Image: 27 - PSNR: 26.6941 - SSIM: 0.8825 - ens PSNR: 26.4466 - ens SSIM: 0.8979\n",
            "Image: 28 - PSNR: 26.3794 - SSIM: 0.8697 - ens PSNR: 26.1549 - ens SSIM: 0.8856\n",
            "sigma = 30 - PSNR: 36.2275 - SSIM: 0.8982 - ens PSNR: 36.7931 - ens SSIM: 0.9293\n",
            "Image: 1 - PSNR: 24.9551 - SSIM: 0.8084 - ens PSNR: 25.0358 - ens SSIM: 0.8483\n",
            "Image: 2 - PSNR: 32.8739 - SSIM: 0.9717 - ens PSNR: 33.2263 - ens SSIM: 0.9825\n",
            "Image: 3 - PSNR: 32.5859 - SSIM: 0.9703 - ens PSNR: 32.9982 - ens SSIM: 0.9801\n",
            "Image: 4 - PSNR: 32.8088 - SSIM: 0.9701 - ens PSNR: 33.1676 - ens SSIM: 0.9797\n",
            "Image: 5 - PSNR: 32.9372 - SSIM: 0.9697 - ens PSNR: 33.3560 - ens SSIM: 0.9792\n",
            "Image: 6 - PSNR: 32.9618 - SSIM: 0.9708 - ens PSNR: 33.3690 - ens SSIM: 0.9818\n",
            "Image: 7 - PSNR: 45.7933 - SSIM: 0.9107 - ens PSNR: 46.9066 - ens SSIM: 0.9519\n",
            "Image: 8 - PSNR: 43.6995 - SSIM: 0.9150 - ens PSNR: 44.5542 - ens SSIM: 0.9592\n",
            "Image: 9 - PSNR: 44.2454 - SSIM: 0.9120 - ens PSNR: 45.1920 - ens SSIM: 0.9551\n",
            "Image: 10 - PSNR: 44.0642 - SSIM: 0.9117 - ens PSNR: 45.0486 - ens SSIM: 0.9575\n",
            "Image: 11 - PSNR: 24.5163 - SSIM: 0.7048 - ens PSNR: 24.5331 - ens SSIM: 0.7727\n",
            "Image: 12 - PSNR: 24.9551 - SSIM: 0.8084 - ens PSNR: 25.0358 - ens SSIM: 0.8483\n",
            "Image: 13 - PSNR: 40.7380 - SSIM: 0.9836 - ens PSNR: 41.4057 - ens SSIM: 0.9826\n",
            "Image: 14 - PSNR: 36.4942 - SSIM: 0.9791 - ens PSNR: 37.1263 - ens SSIM: 0.9788\n",
            "Image: 15 - PSNR: 33.3958 - SSIM: 0.9688 - ens PSNR: 33.8474 - ens SSIM: 0.9822\n",
            "Image: 16 - PSNR: 45.7566 - SSIM: 0.9095 - ens PSNR: 46.8890 - ens SSIM: 0.9510\n",
            "Image: 17 - PSNR: 45.7104 - SSIM: 0.9098 - ens PSNR: 46.8403 - ens SSIM: 0.9513\n",
            "Image: 18 - PSNR: 45.4710 - SSIM: 0.9103 - ens PSNR: 46.5351 - ens SSIM: 0.9516\n",
            "Image: 19 - PSNR: 45.3925 - SSIM: 0.9111 - ens PSNR: 46.4565 - ens SSIM: 0.9525\n",
            "Image: 20 - PSNR: 45.5855 - SSIM: 0.9107 - ens PSNR: 46.6264 - ens SSIM: 0.9518\n",
            "Image: 21 - PSNR: 45.4677 - SSIM: 0.9107 - ens PSNR: 46.5424 - ens SSIM: 0.9518\n",
            "Image: 22 - PSNR: 45.5201 - SSIM: 0.9113 - ens PSNR: 46.6069 - ens SSIM: 0.9525\n",
            "Image: 23 - PSNR: 39.8346 - SSIM: 0.9982 - ens PSNR: 40.7523 - ens SSIM: 0.9984\n",
            "Image: 24 - PSNR: 24.5163 - SSIM: 0.7048 - ens PSNR: 24.5331 - ens SSIM: 0.7727\n",
            "Image: 25 - PSNR: 25.9650 - SSIM: 0.8168 - ens PSNR: 25.9780 - ens SSIM: 0.8571\n",
            "Image: 26 - PSNR: 25.0513 - SSIM: 0.7499 - ens PSNR: 25.0439 - ens SSIM: 0.8059\n",
            "Image: 27 - PSNR: 26.6941 - SSIM: 0.8825 - ens PSNR: 26.4466 - ens SSIM: 0.8979\n",
            "Image: 28 - PSNR: 26.3794 - SSIM: 0.8697 - ens PSNR: 26.1549 - ens SSIM: 0.8856\n",
            "sigma = 50 - PSNR: 36.2275 - SSIM: 0.8982 - ens PSNR: 36.7931 - ens SSIM: 0.9293\n"
          ]
        }
      ]
    },
    {
      "cell_type": "code",
      "source": [
        "#save results\n",
        "\n",
        "!mv /content/RDUNet/Results/cbsd68_sigma_10 /content/drive/MyDrive/projet_imagerie/RDUNET/results/cbsd68_sigma_10\n",
        "!mv /content/RDUNet/Results/cbsd68_sigma_30 /content/drive/MyDrive/projet_imagerie/RDUNET/results/cbsd68_sigma_30\n",
        "!mv /content/RDUNet/Results/cbsd68_sigma_50 /content/drive/MyDrive/projet_imagerie/RDUNET/results/cbsd68_sigma_50"
      ],
      "metadata": {
        "id": "LfUjaG-Ut63R"
      },
      "execution_count": null,
      "outputs": []
    },
    {
      "cell_type": "code",
      "source": [
        "%cd /content/RDUNet/Datasets/Test"
      ],
      "metadata": {
        "colab": {
          "base_uri": "https://localhost:8080/"
        },
        "id": "rd9peIrB0E9T",
        "outputId": "4faeaf5d-71f3-47e1-8fa2-b5cf25baef24"
      },
      "execution_count": null,
      "outputs": [
        {
          "output_type": "stream",
          "name": "stdout",
          "text": [
            "/content/RDUNet/Datasets/Test\n"
          ]
        }
      ]
    },
    {
      "cell_type": "code",
      "source": [
        "!cp noisy_cbsd68_10_color.mat noisy_cbsd68_30_color.mat\n",
        "!cp noisy_cbsd68_10_color.mat noisy_cbsd68_50_color.mat"
      ],
      "metadata": {
        "id": "8WWeLPwI0Kjy"
      },
      "execution_count": null,
      "outputs": []
    },
    {
      "cell_type": "code",
      "source": [
        "%cd /content/RDUNet"
      ],
      "metadata": {
        "colab": {
          "base_uri": "https://localhost:8080/"
        },
        "id": "MsBlKBWW0ZKA",
        "outputId": "d1e8fd88-fb21-4b30-e025-affd807e4d67"
      },
      "execution_count": null,
      "outputs": [
        {
          "output_type": "stream",
          "name": "stdout",
          "text": [
            "/content/RDUNet\n"
          ]
        }
      ]
    }
  ]
}